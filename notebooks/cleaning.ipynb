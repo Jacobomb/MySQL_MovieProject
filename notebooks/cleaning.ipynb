{
 "cells": [
  {
   "cell_type": "markdown",
   "id": "41c417e5-a61a-4d06-90e7-545a49d9c821",
   "metadata": {},
   "source": [
    "#### Importado y exportado de archivos csv\n",
    "\n",
    "Primera parte del MySQL_MovieProject"
   ]
  },
  {
   "cell_type": "code",
   "execution_count": 2,
   "id": "4463f99d-5fb9-46c8-bddf-f7c04e4d4f45",
   "metadata": {},
   "outputs": [],
   "source": [
    "import pandas as pd # Importamos las librerías\n",
    "import numpy as np\n",
    "import re"
   ]
  },
  {
   "cell_type": "markdown",
   "id": "0f16f7d8-2645-4367-8450-ecd79009881c",
   "metadata": {},
   "source": [
    "* Tenemos un total de 6 csv's "
   ]
  }
 ],
 "metadata": {
  "kernelspec": {
   "display_name": "clase",
   "language": "python",
   "name": "clase"
  },
  "language_info": {
   "codemirror_mode": {
    "name": "ipython",
    "version": 3
   },
   "file_extension": ".py",
   "mimetype": "text/x-python",
   "name": "python",
   "nbconvert_exporter": "python",
   "pygments_lexer": "ipython3",
   "version": "3.10.13"
  }
 },
 "nbformat": 4,
 "nbformat_minor": 5
}
