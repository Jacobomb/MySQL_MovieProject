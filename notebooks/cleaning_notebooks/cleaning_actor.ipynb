{
 "cells": [
  {
   "cell_type": "markdown",
   "id": "41c417e5-a61a-4d06-90e7-545a49d9c821",
   "metadata": {},
   "source": [
    "#### Importado y exportado de archivos csv\n",
    "\n",
    "Primera parte del MySQL_MovieProject"
   ]
  },
  {
   "cell_type": "code",
   "execution_count": 1,
   "id": "4463f99d-5fb9-46c8-bddf-f7c04e4d4f45",
   "metadata": {},
   "outputs": [],
   "source": [
    "import pandas as pd # Importamos las librerías\n",
    "import numpy as np\n",
    "import re\n",
    "from datetime import datetime"
   ]
  },
  {
   "cell_type": "code",
   "execution_count": 2,
   "id": "a34116fa-a102-47ef-bd86-db6dc07efd2a",
   "metadata": {},
   "outputs": [],
   "source": [
    "pd.set_option('display.max_columns', None)  # ver todas las columnas"
   ]
  },
  {
   "cell_type": "markdown",
   "id": "0f16f7d8-2645-4367-8450-ecd79009881c",
   "metadata": {},
   "source": [
    "Tenemos un total de 7 csv's - Este notebook va a servir como plantilla para limpiar el primer csv y aplicar métodos parecidos al resto de ficheros .csv.\n",
    "Los 7 .csv son los siguientes:\n",
    "* actor.csv\n",
    "* category.csv\n",
    "* film.csv\n",
    "* inventory.csv\n",
    "* language.csv\n",
    "* old_HDD.csv\n",
    "* rental.csv"
   ]
  },
  {
   "cell_type": "code",
   "execution_count": 3,
   "id": "8d06fc34-8c51-401d-a367-7ed8aa8709f9",
   "metadata": {},
   "outputs": [
    {
     "data": {
      "text/html": [
       "<div>\n",
       "<style scoped>\n",
       "    .dataframe tbody tr th:only-of-type {\n",
       "        vertical-align: middle;\n",
       "    }\n",
       "\n",
       "    .dataframe tbody tr th {\n",
       "        vertical-align: top;\n",
       "    }\n",
       "\n",
       "    .dataframe thead th {\n",
       "        text-align: right;\n",
       "    }\n",
       "</style>\n",
       "<table border=\"1\" class=\"dataframe\">\n",
       "  <thead>\n",
       "    <tr style=\"text-align: right;\">\n",
       "      <th></th>\n",
       "      <th>actor_id</th>\n",
       "      <th>first_name</th>\n",
       "      <th>last_name</th>\n",
       "      <th>last_update</th>\n",
       "    </tr>\n",
       "  </thead>\n",
       "  <tbody>\n",
       "    <tr>\n",
       "      <th>0</th>\n",
       "      <td>1</td>\n",
       "      <td>PENELOPE</td>\n",
       "      <td>GUINESS</td>\n",
       "      <td>2006-02-15 04:34:33</td>\n",
       "    </tr>\n",
       "    <tr>\n",
       "      <th>1</th>\n",
       "      <td>2</td>\n",
       "      <td>NICK</td>\n",
       "      <td>WAHLBERG</td>\n",
       "      <td>2006-02-15 04:34:33</td>\n",
       "    </tr>\n",
       "    <tr>\n",
       "      <th>2</th>\n",
       "      <td>3</td>\n",
       "      <td>ED</td>\n",
       "      <td>CHASE</td>\n",
       "      <td>2006-02-15 04:34:33</td>\n",
       "    </tr>\n",
       "    <tr>\n",
       "      <th>3</th>\n",
       "      <td>4</td>\n",
       "      <td>JENNIFER</td>\n",
       "      <td>DAVIS</td>\n",
       "      <td>2006-02-15 04:34:33</td>\n",
       "    </tr>\n",
       "    <tr>\n",
       "      <th>4</th>\n",
       "      <td>5</td>\n",
       "      <td>JOHNNY</td>\n",
       "      <td>LOLLOBRIGIDA</td>\n",
       "      <td>2006-02-15 04:34:33</td>\n",
       "    </tr>\n",
       "  </tbody>\n",
       "</table>\n",
       "</div>"
      ],
      "text/plain": [
       "   actor_id first_name     last_name          last_update\n",
       "0         1   PENELOPE       GUINESS  2006-02-15 04:34:33\n",
       "1         2       NICK      WAHLBERG  2006-02-15 04:34:33\n",
       "2         3         ED         CHASE  2006-02-15 04:34:33\n",
       "3         4   JENNIFER         DAVIS  2006-02-15 04:34:33\n",
       "4         5     JOHNNY  LOLLOBRIGIDA  2006-02-15 04:34:33"
      ]
     },
     "execution_count": 3,
     "metadata": {},
     "output_type": "execute_result"
    }
   ],
   "source": [
    "path = '../data/actor.csv'\n",
    "\n",
    "actor = pd.read_csv(path)\n",
    "\n",
    "actor.head()"
   ]
  },
  {
   "cell_type": "code",
   "execution_count": 4,
   "id": "01090d8b",
   "metadata": {},
   "outputs": [
    {
     "name": "stdout",
     "output_type": "stream",
     "text": [
      "<class 'pandas.core.frame.DataFrame'>\n",
      "RangeIndex: 200 entries, 0 to 199\n",
      "Data columns (total 4 columns):\n",
      " #   Column       Non-Null Count  Dtype \n",
      "---  ------       --------------  ----- \n",
      " 0   actor_id     200 non-null    int64 \n",
      " 1   first_name   200 non-null    object\n",
      " 2   last_name    200 non-null    object\n",
      " 3   last_update  200 non-null    object\n",
      "dtypes: int64(1), object(3)\n",
      "memory usage: 6.4+ KB\n"
     ]
    }
   ],
   "source": [
    "actor.info()"
   ]
  },
  {
   "cell_type": "markdown",
   "id": "c63ef8e9",
   "metadata": {},
   "source": [
    "* Con estas primeras 5 filas podemos ver que la fecha en la que se actualizan los nombres de cada actor son iguales. \n",
    "* Voy a comprobar si la varianza en la columna es baja o si hay pocos valores únicos si son todos iguales me voy a deshacer de ella."
   ]
  },
  {
   "cell_type": "code",
   "execution_count": 5,
   "id": "a9a551e5",
   "metadata": {},
   "outputs": [
    {
     "data": {
      "text/plain": [
       "array(['2006-02-15 04:34:33'], dtype=object)"
      ]
     },
     "execution_count": 5,
     "metadata": {},
     "output_type": "execute_result"
    }
   ],
   "source": [
    "# Procedo a ver los valores únicos de la columna:\n",
    "actor.last_update.unique()"
   ]
  },
  {
   "cell_type": "markdown",
   "id": "0488ff37",
   "metadata": {},
   "source": [
    "* Solo hay un tipo de valor en toda la columna -> me la puedo quitar con total confianza -> no nos aporta nada saber que los datos de los actores se actualizaron todos el mismo día y a la misma hora"
   ]
  },
  {
   "cell_type": "code",
   "execution_count": 6,
   "id": "940279a2",
   "metadata": {},
   "outputs": [
    {
     "data": {
      "text/html": [
       "<div>\n",
       "<style scoped>\n",
       "    .dataframe tbody tr th:only-of-type {\n",
       "        vertical-align: middle;\n",
       "    }\n",
       "\n",
       "    .dataframe tbody tr th {\n",
       "        vertical-align: top;\n",
       "    }\n",
       "\n",
       "    .dataframe thead th {\n",
       "        text-align: right;\n",
       "    }\n",
       "</style>\n",
       "<table border=\"1\" class=\"dataframe\">\n",
       "  <thead>\n",
       "    <tr style=\"text-align: right;\">\n",
       "      <th></th>\n",
       "      <th>actor_id</th>\n",
       "      <th>first_name</th>\n",
       "      <th>last_name</th>\n",
       "    </tr>\n",
       "  </thead>\n",
       "  <tbody>\n",
       "    <tr>\n",
       "      <th>0</th>\n",
       "      <td>1</td>\n",
       "      <td>PENELOPE</td>\n",
       "      <td>GUINESS</td>\n",
       "    </tr>\n",
       "    <tr>\n",
       "      <th>1</th>\n",
       "      <td>2</td>\n",
       "      <td>NICK</td>\n",
       "      <td>WAHLBERG</td>\n",
       "    </tr>\n",
       "    <tr>\n",
       "      <th>2</th>\n",
       "      <td>3</td>\n",
       "      <td>ED</td>\n",
       "      <td>CHASE</td>\n",
       "    </tr>\n",
       "    <tr>\n",
       "      <th>3</th>\n",
       "      <td>4</td>\n",
       "      <td>JENNIFER</td>\n",
       "      <td>DAVIS</td>\n",
       "    </tr>\n",
       "    <tr>\n",
       "      <th>4</th>\n",
       "      <td>5</td>\n",
       "      <td>JOHNNY</td>\n",
       "      <td>LOLLOBRIGIDA</td>\n",
       "    </tr>\n",
       "  </tbody>\n",
       "</table>\n",
       "</div>"
      ],
      "text/plain": [
       "   actor_id first_name     last_name\n",
       "0         1   PENELOPE       GUINESS\n",
       "1         2       NICK      WAHLBERG\n",
       "2         3         ED         CHASE\n",
       "3         4   JENNIFER         DAVIS\n",
       "4         5     JOHNNY  LOLLOBRIGIDA"
      ]
     },
     "execution_count": 6,
     "metadata": {},
     "output_type": "execute_result"
    }
   ],
   "source": [
    "actor.drop(columns='last_update', inplace=True)\n",
    "actor.head()"
   ]
  },
  {
   "cell_type": "code",
   "execution_count": 7,
   "id": "6412cd0c",
   "metadata": {},
   "outputs": [
    {
     "data": {
      "text/plain": [
       "(200, 3)"
      ]
     },
     "execution_count": 7,
     "metadata": {},
     "output_type": "execute_result"
    }
   ],
   "source": [
    "actor.shape"
   ]
  },
  {
   "cell_type": "markdown",
   "id": "405daf3d",
   "metadata": {},
   "source": [
    "Tenemos 200 actores y 3 columnas después de habernos quitado el `last_update`"
   ]
  },
  {
   "cell_type": "code",
   "execution_count": 8,
   "id": "17896496",
   "metadata": {},
   "outputs": [
    {
     "data": {
      "text/plain": [
       "actor_id      0\n",
       "first_name    0\n",
       "last_name     0\n",
       "dtype: int64"
      ]
     },
     "execution_count": 8,
     "metadata": {},
     "output_type": "execute_result"
    }
   ],
   "source": [
    "actor.isnull().sum() # Comprobamos si hay nulos"
   ]
  },
  {
   "cell_type": "code",
   "execution_count": 9,
   "id": "317cc279",
   "metadata": {},
   "outputs": [],
   "source": [
    "# Vamos a borrar duplicados si los hubiera:\n",
    "actor.drop_duplicates(inplace=True)"
   ]
  },
  {
   "cell_type": "code",
   "execution_count": 12,
   "id": "d72930d9",
   "metadata": {},
   "outputs": [
    {
     "data": {
      "text/plain": [
       "200"
      ]
     },
     "execution_count": 12,
     "metadata": {},
     "output_type": "execute_result"
    }
   ],
   "source": [
    "actor.actor_id.unique().size"
   ]
  },
  {
   "cell_type": "code",
   "execution_count": 13,
   "id": "91471200",
   "metadata": {},
   "outputs": [],
   "source": [
    "# Ahora sabemos que tenemos 200 valores unicos de actor_id pero con esto no podemos comprobar si hay algun first__name,last_name duplicado\n",
    "# Vamos a comprobar esto:\n",
    "nombres_dups = actor.duplicated(subset=['first_name', 'last_name'], keep='first') # creamos subset de solo nombre y apellido\n",
    "\n",
    "\n",
    "actor = actor[~nombres_dups] # Con la virgulilla excluimos los duplicados\n",
    "\n",
    "\n",
    "actor = actor.reset_index(drop=True) # Si se encontrara algún nombre repetido se borraría su indice así que vamos a resetearlos por si acaso"
   ]
  },
  {
   "cell_type": "code",
   "execution_count": 14,
   "id": "ab94697a",
   "metadata": {},
   "outputs": [
    {
     "data": {
      "text/plain": [
       "(199, 3)"
      ]
     },
     "execution_count": 14,
     "metadata": {},
     "output_type": "execute_result"
    }
   ],
   "source": [
    "# Comprobamos el size una última vez para saber si se ha borrado alguna fila\n",
    "actor.shape"
   ]
  },
  {
   "cell_type": "markdown",
   "id": "ae0bb944",
   "metadata": {},
   "source": [
    "Se ha borrado una única fila - esto quiere decir que había un nombre-apellido repetido"
   ]
  },
  {
   "cell_type": "code",
   "execution_count": 15,
   "id": "36343645",
   "metadata": {},
   "outputs": [],
   "source": [
    "# Pasamos el csv a nuestra carpeta data,llamándolo igual pero con un '_clean'\n",
    "actor.to_csv('../data/actor_clean.csv', index=False)"
   ]
  },
  {
   "cell_type": "code",
   "execution_count": null,
   "id": "1976c552",
   "metadata": {},
   "outputs": [],
   "source": []
  }
 ],
 "metadata": {
  "kernelspec": {
   "display_name": "clase",
   "language": "python",
   "name": "python3"
  },
  "language_info": {
   "codemirror_mode": {
    "name": "ipython",
    "version": 3
   },
   "file_extension": ".py",
   "mimetype": "text/x-python",
   "name": "python",
   "nbconvert_exporter": "python",
   "pygments_lexer": "ipython3",
   "version": "3.10.13"
  }
 },
 "nbformat": 4,
 "nbformat_minor": 5
}
